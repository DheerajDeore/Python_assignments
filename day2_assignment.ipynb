{
 "cells": [
  {
   "cell_type": "markdown",
   "metadata": {},
   "source": [
    "# 1.Python Program to Read a Number n And Print the Series “1+2+…..+n= “sample:\n",
    "Case 1: Enter a number: 4\n",
    "        1 + 2 + 3 + 4 = 10 \n",
    "Case 2: Enter a number: 5\n",
    "        1 + 2 + 3 + 4 + 5 = 15\n"
   ]
  },
  {
   "cell_type": "code",
   "execution_count": 17,
   "metadata": {},
   "outputs": [
    {
     "name": "stdout",
     "output_type": "stream",
     "text": [
      "Enter the no: 5\n",
      "1+2+3+4+5=15\n"
     ]
    }
   ],
   "source": [
    "n = int(input(\"Enter the no: \"))\n",
    "total = 0\n",
    "for i in range(1,n):\n",
    "    total = total + i\n",
    "    print(i, end=\"+\")\n",
    "print(n,'=',total+n, sep ='')"
   ]
  },
  {
   "cell_type": "code",
   "execution_count": 71,
   "metadata": {},
   "outputs": [],
   "source": [
    "import math\n",
    "n = int(input(\"Enter the no: \"))\n",
    "total = 0\n",
    "for i in range(1,n):\n",
    "    total = total + i\n",
    "    print(i, end=\"+\")\n",
    "print(n,'=',total+n, sep ='')"
   ]
  },
  {
   "cell_type": "markdown",
   "metadata": {},
   "source": [
    "# 2.Write a Python program to count the number of even and odd numbers from  a series of numbers.Sample numbers :\n",
    "numbers = [1,2,3,4,5,6,7,8,9]\n",
    "Expected Output :\n",
    "Number of even numbers : 4\n",
    "Number of odd numbers : 5\n"
   ]
  },
  {
   "cell_type": "code",
   "execution_count": 30,
   "metadata": {},
   "outputs": [
    {
     "name": "stdout",
     "output_type": "stream",
     "text": [
      "Enter the nos:> 1 2 3 4 5 6 7 8 9\n",
      "No.of Even no. present in the list >  4\n",
      "No.of Odd no. present in the list >  5\n"
     ]
    }
   ],
   "source": [
    "n = list(map(int,input(\"Enter the nos:> \").split()))\n",
    "#n = [1,2,3,4,5,6,7,8,9]\n",
    "even_n, odd_n = 0,0\n",
    "for i in n:\n",
    "    if i % 2 == 0:\n",
    "        even_n = even_n + 1\n",
    "    else:\n",
    "        odd_n += 1\n",
    "print(\"No.of Even no. present in the list > \",even_n)\n",
    "print(\"No.of Odd no. present in the list > \",odd_n)"
   ]
  },
  {
   "cell_type": "markdown",
   "metadata": {},
   "source": [
    "# 3.Write a Python program to create the multiplication table (from 1 to 10) of a number. "
   ]
  },
  {
   "cell_type": "code",
   "execution_count": 35,
   "metadata": {},
   "outputs": [
    {
     "name": "stdout",
     "output_type": "stream",
     "text": [
      "Enter the the no : 3\n",
      "multiplication table of 3\n",
      "3 X 1 = 3\n",
      "3 X 2 = 6\n",
      "3 X 3 = 9\n",
      "3 X 4 = 12\n",
      "3 X 5 = 15\n",
      "3 X 6 = 18\n",
      "3 X 7 = 21\n",
      "3 X 8 = 24\n",
      "3 X 9 = 27\n",
      "3 X 10 = 30\n"
     ]
    }
   ],
   "source": [
    "n = int(input(\"Enter the the no : \"))\n",
    "print(\"multiplication table of\", n)\n",
    "for i in range(1,11):\n",
    "    print(f\"{n} X {i} = {n*i}\")"
   ]
  },
  {
   "cell_type": "code",
   "execution_count": 40,
   "metadata": {},
   "outputs": [
    {
     "name": "stdout",
     "output_type": "stream",
     "text": [
      "multiplication table\n",
      "8 X 1 = 8\n",
      "8 X 2 = 16\n",
      "8 X 3 = 24\n",
      "8 X 4 = 32\n",
      "8 X 5 = 40\n",
      "8 X 6 = 48\n",
      "8 X 7 = 56\n",
      "8 X 8 = 64\n",
      "8 X 9 = 72\n",
      "8 X 10 = 80\n",
      "****************\n",
      "9 X 1 = 9\n",
      "9 X 2 = 18\n",
      "9 X 3 = 27\n",
      "9 X 4 = 36\n",
      "9 X 5 = 45\n",
      "9 X 6 = 54\n",
      "9 X 7 = 63\n",
      "9 X 8 = 72\n",
      "9 X 9 = 81\n",
      "9 X 10 = 90\n",
      "****************\n"
     ]
    }
   ],
   "source": [
    "print(\"multiplication table\")\n",
    "for i in range(8,10):\n",
    "    for j in range(1,11):\n",
    "        print(f\"{i} X {j} = {i*j}\")\n",
    "    print('****************')"
   ]
  },
  {
   "cell_type": "markdown",
   "metadata": {},
   "source": [
    "#  4.Given the triangle of consecutive odd  numbers triangle is given Calculate Sum row wise \n",
    "Example we call function :- row_sum_odd_numbers(2)\n",
    "Result will be=3 + 5 = 8\n",
    "if user give 4 then ur output is 13 + 15 + 17+ 19 = 64\n"
   ]
  },
  {
   "cell_type": "code",
   "execution_count": 84,
   "metadata": {},
   "outputs": [
    {
     "name": "stdout",
     "output_type": "stream",
     "text": [
      "Enter Row Number6\n",
      "[[1], [3, 5], [7, 9, 11], [13, 15, 17, 19], [21, 23, 25, 27, 29], [31, 33, 35, 37, 39, 41]]\n",
      "Sum of this row -> [31, 33, 35, 37, 39, 41] is -> 216\n"
     ]
    }
   ],
   "source": [
    "def Rsum(n):\n",
    "    lst = []\n",
    "    for l in range(n):\n",
    "        lst.append([])\n",
    "    \n",
    "    a = 1\n",
    "    for i in range(n):\n",
    "        for j in range(1,i+2):\n",
    "            lst[i].append(a)\n",
    "            a += 2\n",
    "    return sum(lst[n-1]),lst\n",
    "n = int(input(\"Enter Row Number\"))\n",
    "s,L = Rsum(n)\n",
    "print(L)\n",
    "print(\"Sum of this row -> %s is -> %d\"%(L[n-1],s))"
   ]
  },
  {
   "cell_type": "code",
   "execution_count": 85,
   "metadata": {},
   "outputs": [
    {
     "name": "stdout",
     "output_type": "stream",
     "text": [
      "6\n",
      "216\n"
     ]
    }
   ],
   "source": [
    "def row_sum(n):\n",
    "    sum = n**3\n",
    "    return sum\n",
    "n = int(input())\n",
    "print(row_sum(n))"
   ]
  },
  {
   "cell_type": "markdown",
   "metadata": {},
   "source": [
    "# 5.Write python program to print the pattern given below \n",
    "Note: Take input from user\n",
    "1\n",
    "2 2\n",
    "3 3 3\n",
    "4 4 4 4\n",
    "5 5 5 5 5\n"
   ]
  },
  {
   "cell_type": "code",
   "execution_count": 57,
   "metadata": {},
   "outputs": [
    {
     "name": "stdout",
     "output_type": "stream",
     "text": [
      "Enter the number of rows 5\n",
      "1  \n",
      "2 2  \n",
      "3 3 3  \n",
      "4 4 4 4  \n",
      "5 5 5 5 5  \n"
     ]
    }
   ],
   "source": [
    "n = int(input(\"Enter the number of rows \"))\n",
    "for i in range(1,n+1):\n",
    "    for j in range(i):\n",
    "        print(i, end=\" \") \n",
    "    print(\" \")"
   ]
  },
  {
   "cell_type": "code",
   "execution_count": null,
   "metadata": {},
   "outputs": [],
   "source": []
  }
 ],
 "metadata": {
  "kernelspec": {
   "display_name": "Python 3",
   "language": "python",
   "name": "python3"
  },
  "language_info": {
   "codemirror_mode": {
    "name": "ipython",
    "version": 3
   },
   "file_extension": ".py",
   "mimetype": "text/x-python",
   "name": "python",
   "nbconvert_exporter": "python",
   "pygments_lexer": "ipython3",
   "version": "3.7.6"
  }
 },
 "nbformat": 4,
 "nbformat_minor": 4
}
