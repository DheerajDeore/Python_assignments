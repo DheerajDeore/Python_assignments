{
 "cells": [
  {
   "cell_type": "markdown",
   "metadata": {},
   "source": [
    "# 1.Write a function to find max of three numbers."
   ]
  },
  {
   "cell_type": "code",
   "execution_count": 1,
   "metadata": {},
   "outputs": [
    {
     "name": "stdout",
     "output_type": "stream",
     "text": [
      "3\n"
     ]
    }
   ],
   "source": [
    "def max_no(a,b,c):\n",
    "    if a > b and a > c:\n",
    "        return a\n",
    "    elif b > a and b > c:\n",
    "        return b\n",
    "    return c\n",
    "print(max_no(1, 2, 3))"
   ]
  },
  {
   "cell_type": "code",
   "execution_count": 5,
   "metadata": {},
   "outputs": [
    {
     "name": "stdout",
     "output_type": "stream",
     "text": [
      "Maximum no is 8\n"
     ]
    }
   ],
   "source": [
    "def maximum(a, b, c):\n",
    "    x = {'a': a, 'b' : b, 'c' : c}\n",
    "    m = max(x.values())\n",
    "    print(f\"Maximum no is {m}\")\n",
    "maximum(1,2,8)"
   ]
  },
  {
   "cell_type": "markdown",
   "metadata": {},
   "source": [
    "# 2.Write a Python program to detect the number of local variables declared in a function."
   ]
  },
  {
   "cell_type": "code",
   "execution_count": 1,
   "metadata": {},
   "outputs": [
    {
     "name": "stdout",
     "output_type": "stream",
     "text": [
      "No.Of Local Variable present in fun : 4\n",
      "No.Of Local Variable present in fun : 0\n"
     ]
    }
   ],
   "source": [
    "def var():\n",
    "    a = 1\n",
    "    b = 1.2\n",
    "    c = 0\n",
    "    d = \"local variable\"\n",
    "def emty():\n",
    "    pass\n",
    "print(\"No.Of Local Variable present in fun :\",\n",
    "      var.__code__.co_nlocals)\n",
    "print(\"No.Of Local Variable present in fun :\",\n",
    "     emty.__code__.co_nlocals)"
   ]
  },
  {
   "cell_type": "markdown",
   "metadata": {},
   "source": [
    "# 3.Write a recursive function to calculate the sum of numbers from 0 to 10\n",
    "Expected output: 55"
   ]
  },
  {
   "cell_type": "code",
   "execution_count": 13,
   "metadata": {},
   "outputs": [
    {
     "name": "stdout",
     "output_type": "stream",
     "text": [
      "Enter the no:10\n",
      "55\n"
     ]
    }
   ],
   "source": [
    "def recur(n):\n",
    "    if n != 0:\n",
    "        return n + recur(n-1)\n",
    "    else:\n",
    "        return n\n",
    "no = int(input(\"Enter the no:\"))\n",
    "print(recur(no))"
   ]
  },
  {
   "cell_type": "markdown",
   "metadata": {},
   "source": [
    "# 4.Create a function showStudent() in such a way that it should accept student id, name, and it’s college name  and if the id and college name is missing in function call it should show it as by default id is 1 and college name  is VITA."
   ]
  },
  {
   "cell_type": "code",
   "execution_count": 27,
   "metadata": {},
   "outputs": [
    {
     "name": "stdout",
     "output_type": "stream",
     "text": [
      "Student name: Edward\n",
      "Student Id: 1 \n",
      "College: Vita\n",
      "************\n",
      "Student name: Tom\n",
      "Student Id: 2 \n",
      "College: cambridge\n"
     ]
    }
   ],
   "source": [
    "def showStudent(n,i=1,c='Vita'):\n",
    "    print(f\"Student name: {n}\\nStudent Id: {i} \\nCollege: {c}\")\n",
    "\n",
    "showStudent('Edward')\n",
    "print(\"************\")\n",
    "showStudent('Tom',2,'cambridge')\n"
   ]
  },
  {
   "cell_type": "code",
   "execution_count": 33,
   "metadata": {},
   "outputs": [
    {
     "name": "stdout",
     "output_type": "stream",
     "text": [
      "Enter Student Name: dddd\n",
      "Enter Student ID: \n",
      "Enter College Name: \n",
      " Student Id: 1 \n",
      " Student name: dddd \n",
      " College: VITA\n"
     ]
    }
   ],
   "source": [
    "def showStudent(n,i,c):\n",
    "    if i == '':\n",
    "        i = 1\n",
    "    if c == '':\n",
    "        c = 'VITA'\n",
    "\n",
    "    print(f\" Student Id: {i} \\n Student name: {n} \\n College: {c}\")\n",
    "\n",
    "name = input(\"Enter Student Name: \")\n",
    "sid = input(\"Enter Student ID: \")\n",
    "clg = str(input(\"Enter College Name: \"))\n",
    "\n",
    "showStudent(name,sid,clg)\n"
   ]
  },
  {
   "cell_type": "code",
   "execution_count": 51,
   "metadata": {},
   "outputs": [
    {
     "ename": "TypeError",
     "evalue": "showStudent() missing 2 required positional arguments: 'i' and 'c'",
     "output_type": "error",
     "traceback": [
      "\u001b[1;31m---------------------------------------------------------------------------\u001b[0m",
      "\u001b[1;31mTypeError\u001b[0m                                 Traceback (most recent call last)",
      "\u001b[1;32m<ipython-input-51-8cc2ffe50ab6>\u001b[0m in \u001b[0;36m<module>\u001b[1;34m\u001b[0m\n\u001b[0;32m      6\u001b[0m \u001b[1;33m\u001b[0m\u001b[0m\n\u001b[0;32m      7\u001b[0m     \u001b[0mprint\u001b[0m\u001b[1;33m(\u001b[0m\u001b[1;34mf\" Student Id: {i} \\n Student name: {n} \\n College: {c}\"\u001b[0m\u001b[1;33m)\u001b[0m\u001b[1;33m\u001b[0m\u001b[1;33m\u001b[0m\u001b[0m\n\u001b[1;32m----> 8\u001b[1;33m \u001b[0mshowStudent\u001b[0m\u001b[1;33m(\u001b[0m\u001b[1;34m'unnati'\u001b[0m\u001b[1;33m)\u001b[0m\u001b[1;33m\u001b[0m\u001b[1;33m\u001b[0m\u001b[0m\n\u001b[0m",
      "\u001b[1;31mTypeError\u001b[0m: showStudent() missing 2 required positional arguments: 'i' and 'c'"
     ]
    }
   ],
   "source": [
    "def showStudent(n,i,c):\n",
    "    if i == '':\n",
    "        i = 1\n",
    "    if c == '':\n",
    "        c = 'VITA'\n",
    "\n",
    "    print(f\" Student Id: {i} \\n Student name: {n} \\n College: {c}\")\n",
    "showStudent('unnati')"
   ]
  },
  {
   "cell_type": "markdown",
   "metadata": {},
   "source": [
    "# 5.Write a Python function that takes a list and returns a new list with unique elements of the first list.\n",
    "Sample List : [11,22,22,33,33,33,44,55,55,66]\n",
    "Unique List : [11, 22,33, 44, 55,66]\n"
   ]
  },
  {
   "cell_type": "code",
   "execution_count": 42,
   "metadata": {},
   "outputs": [
    {
     "name": "stdout",
     "output_type": "stream",
     "text": [
      "Unique list:\n",
      "[11, 22, 33, 44, 55, 66]\n"
     ]
    }
   ],
   "source": [
    "def unique(lst):\n",
    "    #ls = set(lst)\n",
    "    u_lst = list(set(lst))\n",
    "    #u_lst.sort()\n",
    "    print(u_lst)\n",
    "l = [11,22,22,33,33,33,44,55,55,66] \n",
    "print(\"Unique list:\")\n",
    "unique(l)    "
   ]
  },
  {
   "cell_type": "code",
   "execution_count": 39,
   "metadata": {},
   "outputs": [
    {
     "name": "stdout",
     "output_type": "stream",
     "text": [
      "Unique list:\n",
      "[11, 22, 33, 44, 55, 66]\n"
     ]
    }
   ],
   "source": [
    "def unique(lst):\n",
    "    ls = []\n",
    "    for i in lst:\n",
    "        if i not in ls:\n",
    "            ls.append(i)\n",
    "    print(ls)\n",
    "l = [11,22,22,33,33,33,44,55,55,66] \n",
    "print(\"Unique list:\")\n",
    "unique(l)"
   ]
  },
  {
   "cell_type": "markdown",
   "metadata": {},
   "source": [
    "# 6.Write a program to obtain the sum of the first and last digit of this number 2 user defined functions\n",
    "1st for first digit\n",
    "2nd for last digit\n",
    "Example:\n",
    " Input:  5424\n",
    "Output: 9\n"
   ]
  },
  {
   "cell_type": "code",
   "execution_count": 56,
   "metadata": {},
   "outputs": [
    {
     "name": "stdout",
     "output_type": "stream",
     "text": [
      "Enter the number : 12345\n",
      "[1, 2, 3, 4, 5]\n",
      "Sum of First and Last Digit =  6\n"
     ]
    }
   ],
   "source": [
    "def number(n):\n",
    "    print(\"Sum of First and Last Digit = \",n[0] + n[-1])\n",
    "\n",
    "i = input(\"Enter the number : \")\n",
    "num = list(map(int,str(i)))\n",
    "print(num)\n",
    "#print(num[0] + num[-1])\n",
    "number(num)"
   ]
  },
  {
   "cell_type": "code",
   "execution_count": 5,
   "metadata": {},
   "outputs": [
    {
     "name": "stdout",
     "output_type": "stream",
     "text": [
      "Entye the no:123\n",
      "Sum of first and last digit: 4\n"
     ]
    }
   ],
   "source": [
    "def num(i):\n",
    "    #i = input(\"Enter the no:\")\n",
    "    s = len(i)\n",
    "    fi = int(i[0])\n",
    "    la = int(i[-1])\n",
    "    print(\"Sum of first and last digit:\",fi + la)\n",
    "a = input(\"Entye the no:\")\n",
    "num(a)"
   ]
  },
  {
   "cell_type": "code",
   "execution_count": null,
   "metadata": {},
   "outputs": [],
   "source": []
  }
 ],
 "metadata": {
  "kernelspec": {
   "display_name": "Python 3",
   "language": "python",
   "name": "python3"
  },
  "language_info": {
   "codemirror_mode": {
    "name": "ipython",
    "version": 3
   },
   "file_extension": ".py",
   "mimetype": "text/x-python",
   "name": "python",
   "nbconvert_exporter": "python",
   "pygments_lexer": "ipython3",
   "version": "3.7.6"
  }
 },
 "nbformat": 4,
 "nbformat_minor": 4
}
