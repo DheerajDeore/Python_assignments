{
 "cells": [
  {
   "cell_type": "markdown",
   "metadata": {},
   "source": [
    "# 1.Write a program which will find all such numbers which are divisible by 7 but are not a multiple of 5,between 2000 and 3200 (both included).The numbers obtained should be printed in a comma-separated sequence on a single line.\n"
   ]
  },
  {
   "cell_type": "code",
   "execution_count": 29,
   "metadata": {},
   "outputs": [
    {
     "name": "stdout",
     "output_type": "stream",
     "text": [
      "2002,2009,2023,2030,2037,2044,2058,2065,2072,2079,2093,2100,2107,2114,2128,2135,2142,2149,2163,2170,2177,2184,2198,2205,2212,2219,2233,2240,2247,2254,2268,2275,2282,2289,2303,2310,2317,2324,2338,2345,2352,2359,2373,2380,2387,2394,2408,2415,2422,2429,2443,2450,2457,2464,2478,2485,2492,2499,2513,2520,2527,2534,2548,2555,2562,2569,2583,2590,2597,2604,2618,2625,2632,2639,2653,2660,2667,2674,2688,2695,2702,2709,2723,2730,2737,2744,2758,2765,2772,2779,2793,2800,2807,2814,2828,2835,2842,2849,2863,2870,2877,2884,2898,2905,2912,2919,2933,2940,2947,2954,2968,2975,2982,2989,3003,3010,3017,3024,3038,3045,3052,3059,3073,3080,3087,3094,3108,3115,3122,3129,3143,3150,3157,3164,3178,3185,3192,3199,"
     ]
    }
   ],
   "source": [
    "for i in range(2000,3201):\n",
    "    if i % 7 == False and i % 5 != True:\n",
    "    #if i % 7 == 0 and i % 5 != 0: \n",
    "        print(i, end=\",\")\n",
    "    \n",
    "  "
   ]
  },
  {
   "cell_type": "code",
   "execution_count": 3,
   "metadata": {},
   "outputs": [
    {
     "name": "stdout",
     "output_type": "stream",
     "text": [
      "True\n"
     ]
    }
   ],
   "source": [
    "result =[]\n",
    "\n",
    "result.append(str(i))"
   ]
  },
  {
   "cell_type": "markdown",
   "metadata": {},
   "source": [
    "# 2. With a given integral number n, write a program to generate a dictionary that contains (i, i*i) such that is an integral number between 1 and n (both included). and then the program should print the dictionary. Suppose the following input is supplied to the program: 8  \n",
    "Then, the output should be:{1: 1, 2: 4, 3: 9, 4: 16, 5: 25, 6: 36, 7: 49, 8: 64}\n",
    "\t\n",
    "\tHints:\n",
    "\tIn case of input data being supplied to the question, it should be assumed to be a console input.\n",
    "\tConsider use dict()\n"
   ]
  },
  {
   "cell_type": "code",
   "execution_count": 61,
   "metadata": {},
   "outputs": [
    {
     "name": "stdout",
     "output_type": "stream",
     "text": [
      "{1: 1}\n",
      "{2: 4}\n",
      "{3: 9}\n",
      "{4: 16}\n",
      "{5: 25}\n",
      "{6: 36}\n",
      "{7: 49}\n",
      "{8: 64}\n"
     ]
    }
   ],
   "source": [
    "Dict = []\n",
    "for i in range(1,9):\n",
    "    Dict = {i:i*i}\n",
    "    print(Dict)"
   ]
  },
  {
   "cell_type": "code",
   "execution_count": 2,
   "metadata": {},
   "outputs": [
    {
     "name": "stdout",
     "output_type": "stream",
     "text": [
      "8\n",
      "{1: 1}\n",
      "{1: 1, 2: 4}\n",
      "{1: 1, 2: 4, 3: 9}\n",
      "{1: 1, 2: 4, 3: 9, 4: 16}\n",
      "{1: 1, 2: 4, 3: 9, 4: 16, 5: 25}\n",
      "{1: 1, 2: 4, 3: 9, 4: 16, 5: 25, 6: 36}\n",
      "{1: 1, 2: 4, 3: 9, 4: 16, 5: 25, 6: 36, 7: 49}\n",
      "{1: 1, 2: 4, 3: 9, 4: 16, 5: 25, 6: 36, 7: 49, 8: 64}\n",
      "{1: 1, 2: 4, 3: 9, 4: 16, 5: 25, 6: 36, 7: 49, 8: 64}\n"
     ]
    }
   ],
   "source": [
    "Dict = dict()\n",
    "num = int(input())\n",
    "for i in range(1,num+1):\n",
    "    Dict[i] = i * i\n",
    "    print(Dict)\n",
    "print(Dict)    "
   ]
  },
  {
   "cell_type": "code",
   "execution_count": 62,
   "metadata": {},
   "outputs": [
    {
     "ename": "AttributeError",
     "evalue": "'int' object has no attribute 'append'",
     "output_type": "error",
     "traceback": [
      "\u001b[1;31m---------------------------------------------------------------------------\u001b[0m",
      "\u001b[1;31mAttributeError\u001b[0m                            Traceback (most recent call last)",
      "\u001b[1;32m<ipython-input-62-e3b272eadc4c>\u001b[0m in \u001b[0;36m<module>\u001b[1;34m\u001b[0m\n\u001b[0;32m      2\u001b[0m \u001b[1;32mfor\u001b[0m \u001b[0mi\u001b[0m \u001b[1;32min\u001b[0m \u001b[0mrange\u001b[0m\u001b[1;33m(\u001b[0m\u001b[1;36m1\u001b[0m\u001b[1;33m,\u001b[0m\u001b[1;36m9\u001b[0m\u001b[1;33m)\u001b[0m\u001b[1;33m:\u001b[0m\u001b[1;33m\u001b[0m\u001b[1;33m\u001b[0m\u001b[0m\n\u001b[0;32m      3\u001b[0m     \u001b[0md\u001b[0m \u001b[1;33m=\u001b[0m \u001b[0mi\u001b[0m\u001b[1;33m*\u001b[0m\u001b[0mi\u001b[0m\u001b[1;33m\u001b[0m\u001b[1;33m\u001b[0m\u001b[0m\n\u001b[1;32m----> 4\u001b[1;33m     \u001b[0md\u001b[0m\u001b[1;33m.\u001b[0m\u001b[0mappend\u001b[0m\u001b[1;33m(\u001b[0m\u001b[0mstr\u001b[0m\u001b[1;33m(\u001b[0m\u001b[0mi\u001b[0m\u001b[1;33m)\u001b[0m\u001b[1;33m)\u001b[0m\u001b[1;33m\u001b[0m\u001b[1;33m\u001b[0m\u001b[0m\n\u001b[0m\u001b[0;32m      5\u001b[0m     \u001b[0mprint\u001b[0m\u001b[1;33m(\u001b[0m\u001b[0md\u001b[0m\u001b[1;33m,\u001b[0m \u001b[0mend\u001b[0m \u001b[1;33m=\u001b[0m \u001b[1;34m\",\"\u001b[0m\u001b[1;33m)\u001b[0m\u001b[1;33m\u001b[0m\u001b[1;33m\u001b[0m\u001b[0m\n",
      "\u001b[1;31mAttributeError\u001b[0m: 'int' object has no attribute 'append'"
     ]
    }
   ],
   "source": [
    "d = []\n",
    "for i in range(1,9):\n",
    "    d = i*i\n",
    "    d.append(str(i))\n",
    "    print(d, end = \",\")"
   ]
  },
  {
   "cell_type": "markdown",
   "metadata": {},
   "source": [
    "# 3\tWrite a program that accepts sequence of lines as input and prints the lines after making all characters in the sentence capitalized.\n",
    "\tSuppose the following input is supplied to the program:\n",
    "\tHello world\n",
    "\tPractice makes perfect\n",
    "\tThen, the output should be:\n",
    "\tHELLO WORLD\n",
    "\tPRACTICE MAKES PERFECT\n"
   ]
  },
  {
   "cell_type": "code",
   "execution_count": 10,
   "metadata": {},
   "outputs": [
    {
     "name": "stdout",
     "output_type": "stream",
     "text": [
      "enter how many lines you want to write : 2\n",
      "enter the sentes: hello\n",
      "enter the sentes: kkl;k;j;ak  kjjl\n",
      "HELLO\n",
      "KKL;K;J;AK  KJJL\n"
     ]
    }
   ],
   "source": [
    "n = int(input(\"enter how many lines you want to write : \"))\n",
    "l = []\n",
    "for i in range(n):\n",
    "    w = input(\"enter the sentes: \")\n",
    "    l.append(w.upper())\n",
    "for i in l:\n",
    "    print(i)\n"
   ]
  },
  {
   "cell_type": "code",
   "execution_count": 33,
   "metadata": {
    "scrolled": true
   },
   "outputs": [
    {
     "name": "stdout",
     "output_type": "stream",
     "text": [
      "Enter the Sentes> hello world\n",
      "Enter the Sentes> practice makes man perfect\n",
      "Enter the Sentes> go for it\n",
      "Enter the Sentes> exit\n",
      "HELLO WORLD\n",
      "PRACTICE MAKES MAN PERFECT\n",
      "GO FOR IT\n",
      "\n"
     ]
    }
   ],
   "source": [
    "S_upper = \"\"         # emtyp string\n",
    "\n",
    "while True:\n",
    "    s = input(\"Enter the Sentes> \")  # for entering input \n",
    "    if s.lower() != \"exit\":\n",
    "        S_upper += s.upper() + \"\\n\"\n",
    "    else:\n",
    "        print(S_upper)\n",
    "        break"
   ]
  },
  {
   "cell_type": "markdown",
   "metadata": {},
   "source": [
    "# 4.Write a program to check wheather number is even or odd using if Else statement…\n"
   ]
  },
  {
   "cell_type": "code",
   "execution_count": 4,
   "metadata": {},
   "outputs": [
    {
     "name": "stdout",
     "output_type": "stream",
     "text": [
      "Enter the no : 3\n",
      "3 is odd\n"
     ]
    }
   ],
   "source": [
    "n = int(input(\"Enter the no : \"))\n",
    "if n % 2 == 0:\n",
    "    print(f\"{n} is even\")\n",
    "else:\n",
    "    print(f\"{n} is odd\")"
   ]
  },
  {
   "cell_type": "markdown",
   "metadata": {},
   "source": [
    "# 5.program that grants access only to kids aged between 8-12 using  if  else statement\n",
    " "
   ]
  },
  {
   "cell_type": "code",
   "execution_count": 16,
   "metadata": {},
   "outputs": [
    {
     "name": "stdout",
     "output_type": "stream",
     "text": [
      "Enter the age of kid :12\n",
      "you are allowed… welcome!!\n"
     ]
    }
   ],
   "source": [
    "age = int(input(\"Enter the age of kid :\"))\n",
    "if age >= 8 and age <= 12:\n",
    "    print(\"you are allowed… welcome!!\")\n",
    "else:\n",
    "    print(\"Sorry not allowed ..Bye!\")"
   ]
  },
  {
   "cell_type": "code",
   "execution_count": null,
   "metadata": {},
   "outputs": [],
   "source": []
  }
 ],
 "metadata": {
  "kernelspec": {
   "display_name": "Python 3",
   "language": "python",
   "name": "python3"
  },
  "language_info": {
   "codemirror_mode": {
    "name": "ipython",
    "version": 3
   },
   "file_extension": ".py",
   "mimetype": "text/x-python",
   "name": "python",
   "nbconvert_exporter": "python",
   "pygments_lexer": "ipython3",
   "version": "3.7.6"
  }
 },
 "nbformat": 4,
 "nbformat_minor": 4
}
