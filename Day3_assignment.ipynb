{
 "cells": [
  {
   "cell_type": "markdown",
   "metadata": {},
   "source": [
    "# 1.You are given with a list of integer elements. Make a new list which will store square of elements of previous list"
   ]
  },
  {
   "cell_type": "code",
   "execution_count": 3,
   "metadata": {},
   "outputs": [
    {
     "name": "stdout",
     "output_type": "stream",
     "text": [
      "Enter numbers:1 2 3 4 5\n",
      "[1, 4, 9, 16, 25]\n"
     ]
    }
   ],
   "source": [
    "lst = list(map(int,input(\"Enter numbers:\").split()))\n",
    "ls = []\n",
    "for i in lst:\n",
    "    ls.append(i**2)\n",
    "print(ls)"
   ]
  },
  {
   "cell_type": "code",
   "execution_count": 4,
   "metadata": {},
   "outputs": [
    {
     "name": "stdout",
     "output_type": "stream",
     "text": [
      "Enter numbers:1 2 3 4 5 \n",
      "[1, 4, 9, 16, 25]\n"
     ]
    }
   ],
   "source": [
    "lst = list(map(int,input(\"Enter numbers:\").split()))\n",
    "#lst = input(\"Enter the no: \").split() #this is not iterate\n",
    "Square_ls = [lst**2 for lst in lst]\n",
    "print(Square_ls)"
   ]
  },
  {
   "cell_type": "markdown",
   "metadata": {},
   "source": [
    "# 2.From a list containing ints, strings and floats, make three lists to store them separately. "
   ]
  },
  {
   "cell_type": "code",
   "execution_count": 12,
   "metadata": {},
   "outputs": [
    {
     "name": "stdout",
     "output_type": "stream",
     "text": [
      "[1, 2, 5]\n",
      "[3.33, 4.56, 4.3]\n",
      "['Python', 'hello']\n"
     ]
    }
   ],
   "source": [
    "#lst = list(input(\"Enter the no: \").split())\n",
    "lst=[1,2, 3.33, 4.56,\"Python\",\"hello\", 5, 4.3]\n",
    "a =[]\n",
    "b =[]\n",
    "c =[]\n",
    "for i in lst:\n",
    "    if (type(i) == int):\n",
    "         a.append(i)\n",
    "    elif (type(i) == float):\n",
    "         b.append(i)\n",
    "    elif (type(i) == str):\n",
    "         c.append(i)\n",
    "print(a)\n",
    "print(b)\n",
    "print(c)"
   ]
  },
  {
   "cell_type": "code",
   "execution_count": 15,
   "metadata": {},
   "outputs": [
    {
     "name": "stdout",
     "output_type": "stream",
     "text": [
      "[1, 2, 3.33, 4.56, 'Python', 'hello', 5, 4.3]\n",
      "[1, 2, 5]\n",
      "['Python', 'hello']\n",
      "[3.33, 4.56, 4.3]\n"
     ]
    }
   ],
   "source": [
    "lst=[1,2, 3.33, 4.56,\"Python\",\"hello\", 5, 4.3]\n",
    "string_list=[]\n",
    "integer_list=[]\n",
    "float_list=[]\n",
    "print(lst)\n",
    "for i in lst:\n",
    "    if isinstance(i,int):\n",
    "        integer_list.append(i)\n",
    "    if isinstance(i,str):\n",
    "        string_list.append(i)\n",
    "    if isinstance(i,float):\n",
    "        float_list.append(i)\n",
    "print(integer_list)\n",
    "print(string_list)\n",
    "print(float_list)"
   ]
  },
  {
   "cell_type": "code",
   "execution_count": 5,
   "metadata": {},
   "outputs": [
    {
     "name": "stdout",
     "output_type": "stream",
     "text": [
      "[1, 2, 5]\n",
      "['Python', 'hello']\n",
      "[3.33, 4.56, 4.3]\n"
     ]
    }
   ],
   "source": [
    "from collections import defaultdict\n",
    "lst=[1,2, 3.33, 4.56,\"Python\",\"hello\", 5, 4.3]\n",
    "d = defaultdict(list)\n",
    "for x in lst:\n",
    "    d[type(x)].append(x)\n",
    "\n",
    "print(d[int])\n",
    "print(d[str])\n",
    "print(d[float])"
   ]
  },
  {
   "cell_type": "markdown",
   "metadata": {},
   "source": [
    "# 3.\tPrint the pattern\n",
    "1\n",
    "1 2 \n",
    "1 2 3\n",
    "1 2 3 4\n",
    "1 2 3 4 5\n"
   ]
  },
  {
   "cell_type": "code",
   "execution_count": 9,
   "metadata": {},
   "outputs": [
    {
     "name": "stdout",
     "output_type": "stream",
     "text": [
      "Enter the no:5\n",
      " \n",
      "1  \n",
      "1 2  \n",
      "1 2 3  \n",
      "1 2 3 4  \n",
      "1 2 3 4 5  \n"
     ]
    }
   ],
   "source": [
    "n = int(input(\"Enter the no:\"))\n",
    "for i in range(n+1):\n",
    "    for j in range(1,i+1):\n",
    "        print(j, end = ' ')\n",
    "    print(\" \")"
   ]
  },
  {
   "cell_type": "markdown",
   "metadata": {},
   "source": [
    "# 4.\tAccept data in two 3*3  matrix and calculate the sum of the matrices."
   ]
  },
  {
   "cell_type": "code",
   "execution_count": 20,
   "metadata": {},
   "outputs": [
    {
     "name": "stdout",
     "output_type": "stream",
     "text": [
      "sum of matrix =  \n",
      " [[10 10 10]\n",
      " [10 10 10]\n",
      " [10 10 10]]\n"
     ]
    }
   ],
   "source": [
    "import numpy as np\n",
    "arr = np.array([[1, 2, 3], [4, 5, 6], [7, 8, 9]])\n",
    "arr1 = np.array([[9, 8, 7], [6, 5, 4], [3, 2, 1]])\n",
    "print(\"sum of matrix = \",\"\\n\", arr + arr1)\n",
    "#c=np.add(arr,arr1)\n",
    "#print(c)"
   ]
  },
  {
   "cell_type": "code",
   "execution_count": 21,
   "metadata": {},
   "outputs": [
    {
     "name": "stdout",
     "output_type": "stream",
     "text": [
      "sum of matrix : \n",
      " [[[10 10 10]\n",
      "  [10 10 10]\n",
      "  [10 10 10]]]\n"
     ]
    }
   ],
   "source": [
    "import numpy as np\n",
    "arr1 = np.array([[[1, 2, 3], [4, 5, 6], [7, 8, 9]], [[9, 8, 7], [6, 5, 4], [3, 2, 1]]])\n",
    "#print(\"Array 1 : \\n\",arr1[0:1])\n",
    "#print(\"Array 2 : \\n\",arr1[1:2])\n",
    "print(\"sum of matrix : \\n\", arr1[0:1] + arr1[1:2])\n",
    "#print(arr1.ndim)"
   ]
  },
  {
   "cell_type": "code",
   "execution_count": 4,
   "metadata": {},
   "outputs": [
    {
     "name": "stdout",
     "output_type": "stream",
     "text": [
      "[[10, 10, 10], [10, 10, 10], [10, 10, 10]]\n"
     ]
    }
   ],
   "source": [
    "X = [[1,2,3], \n",
    "    [4 ,5,6], \n",
    "    [7 ,8,9]] \n",
    "  \n",
    "Y = [[9, 8, 7],\n",
    "    [6, 5, 4],\n",
    "    [3, 2, 1]]\n",
    "  \n",
    "result = [[0,0,0], \n",
    "        [0,0,0], \n",
    "        [0,0,0]] \n",
    "   \n",
    "for i in range(len(X)):    \n",
    "    for j in range(len(Y)): \n",
    "        result[i][j] = X[i][j] + Y[i][j] \n",
    "  \n",
    "print(result)\n",
    "#for r in result: \n",
    "  #  print(r) "
   ]
  },
  {
   "cell_type": "markdown",
   "metadata": {},
   "source": [
    "# 5.Write a Python program to check whether a given number is a narcissistic number or not\n",
    "For example, 371 is a narcissistic number; it has three digits, and if we cube each digits  3^3 + 7^3 + 1^3 the sum is 371. Other 3-digit narcissistic numbers are\n",
    "153 = 1^3 + 5^3 + 3^3\n",
    "370 = 3^3 + 7^3 + 0^3\n",
    "407 = 4^3 + 0^3 + 7^3.\n",
    "There are also 4-digit narcissistic numbers, some of which are 1634, 8208, 9474 since\n",
    "1634 = 1^4+6^4+3^4+4^4\n",
    "8208 = 8^4+2^4+0^4+8^4\n",
    "9474 = 9^4+4^4+7^4+4^4\n",
    "\n"
   ]
  },
  {
   "cell_type": "code",
   "execution_count": 59,
   "metadata": {},
   "outputs": [
    {
     "name": "stdout",
     "output_type": "stream",
     "text": [
      "Enter the number : 153\n",
      "3\n",
      "This Number Is narcissistic :  153\n"
     ]
    }
   ],
   "source": [
    "num = str(input(\"Enter the number : \"))\n",
    "#print(len(num))\n",
    "n = int(num[0])**3 + int(num[1])**3 + int(num[2])**3\n",
    "if int(num) == n:\n",
    "    print(\"This Number Is narcissistic : \",num)"
   ]
  },
  {
   "cell_type": "code",
   "execution_count": 65,
   "metadata": {},
   "outputs": [
    {
     "name": "stdout",
     "output_type": "stream",
     "text": [
      "Enter the number : 1634\n",
      "4\n",
      "This Number Is narcissistic :  1634\n"
     ]
    }
   ],
   "source": [
    "num = str(input(\"Enter the number : \"))\n",
    "print(len(num))\n",
    "if len(num) == 3:\n",
    "    n = int(num[0])**len(num) + int(num[1])**len(num) + int(num[2])**len(num)\n",
    "elif len(num) == 4:\n",
    "    n = int(num[0])**len(num) + int(num[1])**len(num) + int(num[2])**len(num) + int(num[3])**len(num)\n",
    "if int(num) == n:\n",
    "    print(\"This Number Is narcissistic : \",num)"
   ]
  },
  {
   "cell_type": "code",
   "execution_count": 5,
   "metadata": {},
   "outputs": [
    {
     "name": "stdout",
     "output_type": "stream",
     "text": [
      "Enter the number153\n",
      "[1, 5, 3]\n",
      "3\n",
      "1\n",
      "125\n",
      "27\n",
      "153\n",
      "Narcissictic\n"
     ]
    }
   ],
   "source": [
    "i = input(\"Enter the number\")\n",
    "no = int(i)\n",
    "num = list(map(int,str(i))) # \"1,5,3\"\n",
    "\n",
    "print(num)\n",
    "count = len(num)\n",
    "print(count)\n",
    "d = 0\n",
    "for i in num:\n",
    "    j = 1\n",
    "    for k in range(count):\n",
    "        j = j*i\n",
    "    print(j)\n",
    "    d += j\n",
    "print(d)\n",
    "if no == d:\n",
    "    print(\"Narcissictic\")\n",
    "else:\n",
    "    print(\"Not Narcissictic\")"
   ]
  },
  {
   "cell_type": "code",
   "execution_count": 2,
   "metadata": {},
   "outputs": [
    {
     "name": "stdout",
     "output_type": "stream",
     "text": [
      "Enter The Number123\n",
      "36\n",
      "Not Narcissistic Number\n"
     ]
    }
   ],
   "source": [
    "def Narci(n,p):\n",
    "    temp = n\n",
    "    sum = 0\n",
    "    while n > 0:\n",
    "        r = n % 10\n",
    "        sum += r**p\n",
    "        n //= 10\n",
    "    print(sum)\n",
    "    if sum == temp:\n",
    "        return \"Narcissistic number\"\n",
    "    else:\n",
    "        return \"Not Narcissistic Number\"\n",
    "    \n",
    "n = int(input(\"Enter The Number\"))\n",
    "p = len(str(n))\n",
    "print(Narci(n,p))"
   ]
  },
  {
   "cell_type": "code",
   "execution_count": 3,
   "metadata": {},
   "outputs": [
    {
     "name": "stdout",
     "output_type": "stream",
     "text": [
      "Enter the number to find it's narcissistic:153\n",
      "153 is narcissistic\n"
     ]
    }
   ],
   "source": [
    "def narc(n):\n",
    "    l = len(str(n)) #convert the digit to string then find the lenght of it\n",
    "    p = int(l) #typecasted to integer\n",
    "    digit = [int(i) for i in str(n)]\n",
    "    sum_list = [(i**p) for i in digit]\n",
    "    s = sum(sum_list)\n",
    "    if s==n:\n",
    "        print('%d is narcissistic' %(n))\n",
    "    else:\n",
    "        print('%d is not narcissistic' %(n))\n",
    "num = int(input('Enter the number to find it\\'s narcissistic:'))\n",
    "narc(num)\n"
   ]
  },
  {
   "cell_type": "code",
   "execution_count": null,
   "metadata": {},
   "outputs": [],
   "source": []
  }
 ],
 "metadata": {
  "kernelspec": {
   "display_name": "Python 3",
   "language": "python",
   "name": "python3"
  },
  "language_info": {
   "codemirror_mode": {
    "name": "ipython",
    "version": 3
   },
   "file_extension": ".py",
   "mimetype": "text/x-python",
   "name": "python",
   "nbconvert_exporter": "python",
   "pygments_lexer": "ipython3",
   "version": "3.7.6"
  }
 },
 "nbformat": 4,
 "nbformat_minor": 4
}
